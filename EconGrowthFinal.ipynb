{
 "cells": [
  {
   "cell_type": "markdown",
   "id": "b9f8be63-0da3-4dd3-9ae4-583daf7253a6",
   "metadata": {},
   "source": [
    " @Chasemoabery: Hey, does anyone know how population affects economic growth and the economy? I was doing some research the other day, and I saw something that I didn’t know if it was right or not… The bigger the population in your country is, the bigger the economic growth. How do you measure economic growth? Anyway, I hope someone can answer this question!\n"
   ]
  },
  {
   "cell_type": "markdown",
   "id": "fd464cbf-5e72-4685-b8d7-8346d6211a8d",
   "metadata": {},
   "source": [
    "@Davidjohnson: Hey @chasemoabery, I was just scrolling through my feed and happened to come across your comment! The best way, in my opinion, to measure economic growth is through GDP, so I would start there and see if there is any type of relationship between the economy and its population.\n"
   ]
  },
  {
   "cell_type": "markdown",
   "id": "dc2355f8-c06d-4998-9aa7-f02f67540917",
   "metadata": {},
   "source": [
    "@Chasemoabery: That’s a good idea! I’ll start pounding away at some data and see what I can find. \n"
   ]
  },
  {
   "cell_type": "markdown",
   "id": "dad12a80-b7cd-408f-85cf-0294f641c535",
   "metadata": {},
   "source": [
    "@Chasemoabery: I’ve been doing some digging and preliminarily it looks to me that as a country’s population grows so does a country’s economy. Is this consistent with what you’ve found? This seems like a really important question that has plenty of real world and policy applications.\n"
   ]
  },
  {
   "cell_type": "markdown",
   "id": "b345602e-aba2-4d8d-9bd9-54ff99821bb1",
   "metadata": {},
   "source": [
    "@Davidjohnson: Yeah, I completely agree. This issue is critical to more fully understand, especially in the modern day, as politicians and supranational organizations try to balance the strain a growing population can have on countries’ infrastructure needs with the assumed promise of increased productivity from more workers. I know countries like China have implemented drastic policies limiting how many children their citizens can have because of these infrastructural and overpopulation concerns. Shedding some light on the relationship between population and economic growth could help us better understand why these countries put policies like the One Child Policy into place and whether they’re effective or not, especially if we can make causal claims with the data we find. \n"
   ]
  },
  {
   "cell_type": "markdown",
   "id": "39eae24e-dbae-4d81-b924-c4d97d0e3b41",
   "metadata": {},
   "source": [
    "@TheEconomistsofOZak: Hi guys @chasemoabery and @Davidjohnson! I hope you guys are doing well. I am a young, ambitious economist looking to help answer your question. David, you are right! GDP is an excellent way of measuring economic growth in a country. There is a couple of things that you need to note first!!! You might want to try using a directed acyclic graph, also known as a DAG. A DAG helps map out causal relationships between population and economic growth. I think it’ll help us to check whether these relationships are direct or if there could be other variables at play in between these changes we’re seeing.\n"
   ]
  },
  {
   "cell_type": "markdown",
   "id": "b54c6e47-88a2-4a39-8227-a9b990fdb297",
   "metadata": {},
   "source": [
    "@Chasemoabery: Woah, a DAG I have never even heard of that! @TheEconomistsofOZak How would we answer this question? Is there a best way to go about this question?\n"
   ]
  },
  {
   "cell_type": "markdown",
   "id": "1679d80b-a407-47dc-ba4e-033b2e97fe82",
   "metadata": {},
   "source": [
    "@TheEconomistsofOZak: Hi again, @chasemoabery, so the best way to answer this question is by probably creating a model. By comparing the populations of countries and the GDPs, you will be able to see that there is a type of relationship here between these two! You will also need sources, so I suggest checking out The World Bank and IPUMS (which originally stood for nothing lol). I suggest using Jupyter labs and Github to help you use the data you find from those sources and attack this question head-on! Have fun and let me know if you need any more help! You guys should get started AS SOON AS POSSIBLE! #GrindModeActivated #ECON #4362\n"
   ]
  },
  {
   "cell_type": "markdown",
   "id": "5d048f70-11de-4511-a879-ce6c47945fcf",
   "metadata": {},
   "source": [
    "@EconomistsofOZak: Alright gentlemen, I think enough time has elapsed. Come to me with the data you gathered and let’s see if we can’t make some causal conclusions or at least strong correlations to color in the relationship between population growth and GDP.\n"
   ]
  },
  {
   "cell_type": "markdown",
   "id": "4f1ccabb-a515-4c0b-aa19-4ac6c266786e",
   "metadata": {},
   "source": [
    "@ChaseMoabery: You have impeccable timing as always @EconomistsofOZak. We have in fact just finished gathering our data. We used a data aggregate source called WorldOMeter, which pulls its data from the United Nations Population Division, World Health Organization (WHO), Food and Agriculture Organization (FAO), International Monetary Fund (IMF), and World Bank. \n"
   ]
  },
  {
   "cell_type": "markdown",
   "id": "a3c6fb66-d485-4aef-9bf1-d8ffd60a054f",
   "metadata": {},
   "source": [
    "@DavidJohnson: The data we have collected is Country name, GDP(nominal, 2017), GDP growth, Population(2017), GDP per Capita, and Share of the World GDP. In a simple web search, I found a website that compiles data from the IMF and Worldbank, so I was able to web scrape this and start on the graphs. By using Jupyter labs we will be able to use the data to produce a graphical depiction.\n"
   ]
  },
  {
   "cell_type": "markdown",
   "id": "2b197380-3a32-4dc3-a685-bf0eeb3cf0aa",
   "metadata": {},
   "source": [
    "@EconomistsofOZak: Very interesting, gentlemen, well done. Are you sure your sources are using correct and valid data? How did they gather it? If you said you discovered this data with a simple google search, how do you know the data can be relied upon?\n"
   ]
  },
  {
   "cell_type": "markdown",
   "id": "19c6cdca-0609-452c-a3e0-82ef0474dfff",
   "metadata": {},
   "source": [
    "@ChaseMoabery: The site we used cites reputable sources that are often cited by economists and governments around the globe. But in order to do our due diligence, we even went a step further and checked where those sources got their data from and how that data was collected.\n"
   ]
  },
  {
   "cell_type": "markdown",
   "id": "33a70024-ba20-4027-80e3-ad57bcfc5781",
   "metadata": {},
   "source": [
    "@DavidJohnson: Exactly. The primary sources used by the data aggregation site we pulled our data from collects their data in primarily two ways. The first - at the scale of these organizations (The World Bank, IMF, etc.) those can reach out to national governments directly and acquire near pinpoint accurate numbers from their country-level statistical systems that these governments use for internal purposes. The second is actually through surveying households, business establishments, NGOs, and other national or international actors within these countries themselves. There is no more reliable method of statistical data available to the general public than has been provided by these organizations.\n"
   ]
  },
  {
   "cell_type": "markdown",
   "id": "4e8fbf26-838f-4baf-95f8-a5d6dcccf07e",
   "metadata": {},
   "source": [
    "@TheEconomistsofOZak: Alright, I’m sold. As an economist myself, I am of course aware of the validity and veracity of these sources, I would simply just have been remiss if I didn’t make sure my apprentices weren’t taking everything they saw on the first page of google at face value. Let’s get straight into it then! How will this data in particular help you answer your question - that of the relationship between population and GDP? With the data you’ve pulled from the data aggregation sites, what kinds of analyses do you intend on performing? \n"
   ]
  },
  {
   "cell_type": "markdown",
   "id": "6126b3b7-4cd4-43c4-b2be-749a76d95d16",
   "metadata": {},
   "source": [
    "@ChaseMoabery: Thankfully our question is relatively straightforward and there are relatively straightforward ways to go about testing our theory - that population does have an impact on a country’s economy, measured through that country’s GDP. We predict that there is a positive correlation between population and GDP, which will show that as countries grow larger, so too do their economies. The more households they have within their borders, the bigger their industries will be, burgeoning and stretching the bounds of their economies as they climb to new steady state levels to match population.\n"
   ]
  },
  {
   "cell_type": "markdown",
   "id": "fac7270d-a153-45db-98ac-dd4dfd993eb5",
   "metadata": {},
   "source": [
    "@DavidJohnson: Additionally, we plan on running multiple analyses on the data we gather. We will use the Ordinary Least Squares method to fully visualize the correlational relationship between population and GDP. First, we will run a log log regression of population onto GDP. We chose a log log regression due to the large variance between the datapoints on both of the axes - population and GDP. The smallest country's population pitted against the largest country's population results in a difference so vast the graph would be rendered nearly useless as a visual aid from which to draw conclusions. The same goes for these countries' GDPs - there is simply too vast a difference between the minimum and maximum that anything except a log log regression would be unreadable.\n"
   ]
  },
  {
   "cell_type": "markdown",
   "id": "eba2569a-eb48-404a-925f-030aed6809ee",
   "metadata": {},
   "source": [
    "@ChaseMoabery: After that regression we plan on running a second regression, this time a level log regression of GDP per capita, which is our measure of the economy mediated controlled for population, onto GDP growth per annum, our measure of the climb (or fall) of the economy. We needed to use another log for our x axis, as GDP per capita again has such high variance between the maximum and the minimum that we are left with no other choice. GDP growth, however, faces no such problem, with variance being within the realms of readability for that variable.\n"
   ]
  },
  {
   "cell_type": "code",
   "execution_count": 1,
   "id": "0adff70a-d5aa-46a2-9f1c-6df66fe13a59",
   "metadata": {},
   "outputs": [
    {
     "name": "stdout",
     "output_type": "stream",
     "text": [
      "Using matplotlib backend: <object object at 0x7fe538b28bd0>\n",
      "Populating the interactive namespace from numpy and matplotlib\n",
      "Collecting plotnine\n",
      "  Downloading plotnine-0.10.1-py3-none-any.whl (1.2 MB)\n",
      "\u001b[2K     \u001b[90m━━━━━━━━━━━━━━━━━━━━━━━━━━━━━━━━━━━━━━━━\u001b[0m \u001b[32m1.2/1.2 MB\u001b[0m \u001b[31m16.4 MB/s\u001b[0m eta \u001b[36m0:00:00\u001b[0m00:01\u001b[0m00:01\u001b[0m\n",
      "\u001b[?25hRequirement already satisfied: pandas>=1.3.5 in /Users/davidjohnson/opt/anaconda3/lib/python3.9/site-packages (from plotnine) (1.4.3)\n",
      "Requirement already satisfied: scipy>=1.5.0 in /Users/davidjohnson/opt/anaconda3/lib/python3.9/site-packages (from plotnine) (1.7.3)\n",
      "Requirement already satisfied: matplotlib>=3.5.0 in /Users/davidjohnson/opt/anaconda3/lib/python3.9/site-packages (from plotnine) (3.5.2)\n",
      "Requirement already satisfied: statsmodels>=0.13.2 in /Users/davidjohnson/opt/anaconda3/lib/python3.9/site-packages (from plotnine) (0.13.2)\n",
      "Requirement already satisfied: patsy>=0.5.1 in /Users/davidjohnson/opt/anaconda3/lib/python3.9/site-packages (from plotnine) (0.5.2)\n",
      "Requirement already satisfied: numpy>=1.19.0 in /Users/davidjohnson/opt/anaconda3/lib/python3.9/site-packages (from plotnine) (1.21.5)\n",
      "Collecting mizani>=0.8.1\n",
      "  Downloading mizani-0.8.1-py3-none-any.whl (64 kB)\n",
      "\u001b[2K     \u001b[90m━━━━━━━━━━━━━━━━━━━━━━━━━━━━━━━━━━━━━━━━\u001b[0m \u001b[32m64.7/64.7 kB\u001b[0m \u001b[31m2.3 MB/s\u001b[0m eta \u001b[36m0:00:00\u001b[0m\n",
      "\u001b[?25hRequirement already satisfied: fonttools>=4.22.0 in /Users/davidjohnson/opt/anaconda3/lib/python3.9/site-packages (from matplotlib>=3.5.0->plotnine) (4.25.0)\n",
      "Requirement already satisfied: packaging>=20.0 in /Users/davidjohnson/opt/anaconda3/lib/python3.9/site-packages (from matplotlib>=3.5.0->plotnine) (21.3)\n",
      "Requirement already satisfied: kiwisolver>=1.0.1 in /Users/davidjohnson/opt/anaconda3/lib/python3.9/site-packages (from matplotlib>=3.5.0->plotnine) (1.4.2)\n",
      "Requirement already satisfied: python-dateutil>=2.7 in /Users/davidjohnson/opt/anaconda3/lib/python3.9/site-packages (from matplotlib>=3.5.0->plotnine) (2.8.2)\n",
      "Requirement already satisfied: cycler>=0.10 in /Users/davidjohnson/opt/anaconda3/lib/python3.9/site-packages (from matplotlib>=3.5.0->plotnine) (0.11.0)\n",
      "Requirement already satisfied: pillow>=6.2.0 in /Users/davidjohnson/opt/anaconda3/lib/python3.9/site-packages (from matplotlib>=3.5.0->plotnine) (9.2.0)\n",
      "Requirement already satisfied: pyparsing>=2.2.1 in /Users/davidjohnson/opt/anaconda3/lib/python3.9/site-packages (from matplotlib>=3.5.0->plotnine) (3.0.9)\n",
      "Collecting palettable\n",
      "  Downloading palettable-3.3.0-py2.py3-none-any.whl (111 kB)\n",
      "\u001b[2K     \u001b[90m━━━━━━━━━━━━━━━━━━━━━━━━━━━━━━━━━━━━━━━\u001b[0m \u001b[32m111.8/111.8 kB\u001b[0m \u001b[31m4.0 MB/s\u001b[0m eta \u001b[36m0:00:00\u001b[0m\n",
      "\u001b[?25hRequirement already satisfied: pytz>=2020.1 in /Users/davidjohnson/opt/anaconda3/lib/python3.9/site-packages (from pandas>=1.3.5->plotnine) (2022.1)\n",
      "Requirement already satisfied: six in /Users/davidjohnson/opt/anaconda3/lib/python3.9/site-packages (from patsy>=0.5.1->plotnine) (1.16.0)\n",
      "Installing collected packages: palettable, mizani, plotnine\n",
      "Successfully installed mizani-0.8.1 palettable-3.3.0 plotnine-0.10.1\n"
     ]
    }
   ],
   "source": [
    "# Download all starting packages that may be needed\n",
    "# Basic Packages\n",
    "from __future__ import division\n",
    "import os\n",
    "from datetime import datetime\n",
    "\n",
    "# Web & file access\n",
    "import requests\n",
    "import io\n",
    "\n",
    "# Import display options for showing websites\n",
    "from IPython.display import IFrame, HTML\n",
    "\n",
    "# Plotting\n",
    "import matplotlib as mpl\n",
    "import matplotlib.pyplot as plt\n",
    "import matplotlib.ticker as mtick\n",
    "\n",
    "import seaborn as sns\n",
    "\n",
    "%pylab --no-import-all\n",
    "%matplotlib inline\n",
    "\n",
    "import seaborn as sns\n",
    "sns.set(rc={'figure.figsize':(11.7,8.27)})\n",
    "sns.set_context(\"talk\")\n",
    "\n",
    "import plotly.express as px\n",
    "import plotly.graph_objects as go\n",
    "\n",
    "!pip install plotnine \n",
    "from plotnine import ggplot, geom_point, aes, stat_smooth, facet_wrap\n",
    "# Next line can import all of plotnine, but may overwrite things? Better import each function/object you need\n",
    "#from plotnine import *\n"
   ]
  },
  {
   "cell_type": "code",
   "execution_count": 3,
   "id": "4481adf9-4b38-4a21-8375-f4d3020048e1",
   "metadata": {},
   "outputs": [
    {
     "ename": "ModuleNotFoundError",
     "evalue": "No module named 'pandas_datareader'",
     "output_type": "error",
     "traceback": [
      "\u001b[0;31m---------------------------------------------------------------------------\u001b[0m",
      "\u001b[0;31mModuleNotFoundError\u001b[0m                       Traceback (most recent call last)",
      "\u001b[0;32m/var/folders/0j/g74tp82x5hl9h__mbmdy00vm0000gn/T/ipykernel_33892/1839134606.py\u001b[0m in \u001b[0;36m<module>\u001b[0;34m\u001b[0m\n\u001b[1;32m      3\u001b[0m \u001b[0;32mimport\u001b[0m \u001b[0mnumpy\u001b[0m \u001b[0;32mas\u001b[0m \u001b[0mnp\u001b[0m\u001b[0;34m\u001b[0m\u001b[0;34m\u001b[0m\u001b[0m\n\u001b[1;32m      4\u001b[0m \u001b[0;31m#!sudo python3 -m pip install pandas_datareader\u001b[0m\u001b[0;34m\u001b[0m\u001b[0;34m\u001b[0m\u001b[0m\n\u001b[0;32m----> 5\u001b[0;31m \u001b[0;32mfrom\u001b[0m \u001b[0mpandas_datareader\u001b[0m \u001b[0;32mimport\u001b[0m \u001b[0mdata\u001b[0m\u001b[0;34m,\u001b[0m \u001b[0mwb\u001b[0m\u001b[0;34m\u001b[0m\u001b[0;34m\u001b[0m\u001b[0m\n\u001b[0m\u001b[1;32m      6\u001b[0m \u001b[0;34m\u001b[0m\u001b[0m\n\u001b[1;32m      7\u001b[0m \u001b[0;31m# GIS & maps\u001b[0m\u001b[0;34m\u001b[0m\u001b[0;34m\u001b[0m\u001b[0m\n",
      "\u001b[0;31mModuleNotFoundError\u001b[0m: No module named 'pandas_datareader'"
     ]
    }
   ],
   "source": [
    "# Data\n",
    "import pandas as pd\n",
    "import numpy as np\n",
    "#!sudo python3 -m pip install pandas_datareader\n",
    "from pandas_datareader import data, wb\n",
    "\n",
    "# GIS & maps\n",
    "import geopandas as gpd\n",
    "gp = gpd\n",
    "import georasters as gr\n",
    "import geoplot as gplt\n",
    "import geoplot.crs as gcrs\n",
    "import mapclassify as mc\n",
    "import textwrap\n"
   ]
  },
  {
   "cell_type": "code",
   "execution_count": null,
   "id": "d856c485-5e9b-4330-b70c-9e612bdbe844",
   "metadata": {},
   "outputs": [],
   "source": [
    "# Data Munging\n",
    "from itertools import product, combinations\n",
    "import difflib\n",
    "import pycountry\n",
    "import geocoder\n",
    "from geonamescache.mappers import country\n",
    "mapper = country(from_key='name', to_key='iso3')\n",
    "mapper2 = country(from_key='iso3', to_key='iso')\n",
    "mapper3 = country(from_key='iso3', to_key='name')\n",
    "\n",
    "# Regressions & Stats\n",
    "from scipy.stats import norm\n",
    "import statsmodels.formula.api as smf\n",
    "#from stargazer.stargazer import Stargazer, LineLocation\n"
   ]
  },
  {
   "cell_type": "code",
   "execution_count": null,
   "id": "19ff4c8c-a929-436d-ab31-bf89ae9ae7f5",
   "metadata": {},
   "outputs": [],
   "source": [
    "# Paths\n",
    "pathout = './data/'\n",
    "\n",
    "if not os.path.exists(pathout):\n",
    "    os.mkdir(pathout)\n",
    "    \n",
    "pathgraphs = './graphs/'\n",
    "if not os.path.exists(pathgraphs):\n",
    "    os.mkdir(pathgraphs)"
   ]
  },
  {
   "cell_type": "code",
   "execution_count": null,
   "id": "d6b8a0a5-baf8-4a6c-a1bb-9cc9041920b0",
   "metadata": {},
   "outputs": [],
   "source": [
    "#Get Data of GDP. In this case worldmeters uses IMF and World bank so it is the easiest to use for Pandas.\n",
    "url = 'https://www.worldometers.info/gdp/gdp-by-country/'\n",
    "\n",
    "header = {\n",
    "  \"User-Agent\": \"Mozilla/5.0 (X11; Linux x86_64) AppleWebKit/537.36 (KHTML, like Gecko) Chrome/50.0.2661.75 Safari/537.36\",\n",
    "  \"X-Requested-With\": \"XMLHttpRequest\"\n",
    "}\n",
    "\n",
    "r = requests.get(url, headers=header)\n",
    "\n",
    "GDP = pd.read_html(r.text)[0]\n",
    "\n",
    "#GDP = pd.read_html(url, encoding='utf-8')[0]\n",
    "GDP\n",
    "\n",
    "GDP\n"
   ]
  },
  {
   "cell_type": "code",
   "execution_count": null,
   "id": "7e514fd6-c655-4ebb-a4ca-fadbd6ef1ae6",
   "metadata": {},
   "outputs": [],
   "source": [
    "# Import display options for showing websites\n",
    "from IPython.display import IFrame\n",
    "url = 'https://en.wikipedia.org/wiki/List_of_ISO_3166_country_codes'\n",
    "\n",
    "isocodes = pd.read_html(url, encoding='utf-8')[0]\n",
    "isocodes\n",
    "\n",
    "isocodes = isocodes.droplevel(0, axis=1)\n",
    "isocodes.head()\n",
    "\n",
    "mycols = isocodes.columns\n",
    "mycols = [c[:c.find('[')] for c in mycols]\n",
    "mycols\n",
    "\n",
    "isocodes.columns = mycols\n",
    "isocodes.head()\n",
    "\n",
    "isocodes['Alpha-2 code original'] = isocodes['Alpha-2 code']\n",
    "isocodes['Alpha-2 code'] = isocodes['Subdivision code links'].apply(lambda x: x[x.find(':')+1:])\n",
    "isocodes.head()\n",
    "\n",
    "isocodes = isocodes.drop(columns = ([\"Official state name\", \"Sovereignty\", \"Alpha-2 code\", \"Numeric code\", \"Subdivision code links\", \"Internet ccTLD\", \"Alpha-2 code original\"]))\n",
    "\n",
    "isocodes                          \n"
   ]
  },
  {
   "cell_type": "code",
   "execution_count": null,
   "id": "1fe76e21-98fb-4e52-ab9d-d10bc4dc7663",
   "metadata": {},
   "outputs": [],
   "source": [
    "# After importing ISO codes we can add them to the overall data table by merging them with the existing table we have. \n",
    "merged = isocodes.merge(GDP, left_on='Country name', right_on='Country')\n",
    "merged\n"
   ]
  },
  {
   "cell_type": "code",
   "execution_count": null,
   "id": "26b5762d-91c1-4737-baf5-6f3c7757198d",
   "metadata": {},
   "outputs": [],
   "source": [
    "# We drop columns that we do not need\n",
    "merged = merged.drop(columns = ['#', 'Country'])\n"
   ]
  },
  {
   "cell_type": "code",
   "execution_count": null,
   "id": "d58daa17-6a2e-4ef7-b2d6-7e4e58e33c82",
   "metadata": {},
   "outputs": [],
   "source": [
    "merged\n"
   ]
  },
  {
   "cell_type": "code",
   "execution_count": null,
   "id": "fc9c8d5a-379f-4df8-80f8-2dbf08ac6558",
   "metadata": {},
   "outputs": [],
   "source": [
    "#Confugring sns based on example\n",
    "sns.set(rc={'figure.figsize':(11.7,8.27)})\n",
    "sns.set_context(\"talk\")\n",
    "\n",
    "#Creates deep copy of merged df\n",
    "new_df = merged \n",
    "\n",
    "#Sorts the entries of DF by population \n",
    "new_df.sort_values(by='Population (2017)', inplace=True)\n",
    "\n",
    "#Creates new column log_pop which is the log of Population. \n",
    "new_df['log_Pop'] = np.log2(new_df['Population (2017)'])\n",
    "\n",
    "#Changing the Obj (ie String) datatype of nominal GDP into int so that we can do log operation on it\n",
    "GDP = []\n",
    "for val in new_df['GDP (nominal, 2017)']: #Iterates through nominal GDP column \n",
    "    GDP.append(val.replace(\"$\",\"\").replace(\",\",\"\")) #Removes $ and ,'s from data allowing for conversion to floats\n",
    "new_df['GDP'] = GDP #inserts new values into dataframe \n",
    "new_df['GDP'] = new_df['GDP'].astype(int) #Casts data type from Obj to into \n",
    "new_df['log_GDP'] = np.log2(new_df['GDP']) \n",
    "sns.regplot(data=new_df, x='log_Pop', y='log_GDP') #Generates plot using seaborn \n"
   ]
  },
  {
   "cell_type": "code",
   "execution_count": null,
   "id": "700ba85f-0dfe-404f-9435-e4aa51100dc7",
   "metadata": {},
   "outputs": [],
   "source": [
    "sns.set(rc={'figure.figsize':(11.7,8.27)})\n",
    "sns.set_context(\"talk\")\n",
    "\n",
    "#Change GDP growth into float64\n",
    "GDP_growth = []\n",
    "for val in new_df['GDP growth']:\n",
    "    val = val[:-1] #Removes the '%' from the end of GDP growth values \n",
    "    GDP_growth.append(float(val)) #Converts vals to floats and appends them to the array GDP_growth \n",
    "new_df['GDP growth float'] = GDP_growth\n",
    "\n",
    "#Chnage GDP per capita into float64\n",
    "GDP_per_capita = []\n",
    "for val in new_df['GDP per capita']:\n",
    "    GDP_per_capita.append(float(val.replace(\"$\",\"\").replace(\",\",\"\"))) #Removes $ and ,'s from values \n",
    "new_df['GDP per capita float'] = GDP_per_capita\n",
    "\n",
    "new_df['log GDP per capita float'] = np.log2(new_df['GDP per capita float']) #Puts on log scale \n",
    "\n",
    "new_df.sort_values(by='log GDP per capita float', inplace=True) #Sorts data frame by log GDP per capita \n",
    "\n",
    "sns.regplot(data=new_df, x='log GDP per capita float', y='GDP growth float') #Seaborn plot \n"
   ]
  },
  {
   "cell_type": "markdown",
   "id": "daadf63e-5623-4b11-839f-cd5022d8a214",
   "metadata": {},
   "source": [
    "@EconomistsofOZak: Fascinating stuff, gentlemen. These ordinary least square regressions absolutely give strong evidence to the claims you’ve been making about population and GDP. I’m seeing that as population increases, so too does GDP. However, I am also seeing that as GDP per capita increases, GDP growth decreases. Is that accurate? What are your all’s thoughts on this phenomenon?\n"
   ]
  },
  {
   "cell_type": "markdown",
   "id": "21fe289d-df0f-47ec-ac50-e4b6aae5a911",
   "metadata": {},
   "source": [
    "@DavidJohnson: That’s exactly right. We found that as expected, economies are larger (as measured through GDP) when their country’s population is also larger. As such, there is a positive correlation between population and economic growth.\n"
   ]
  },
  {
   "cell_type": "markdown",
   "id": "17016416-1e3f-4d4e-8eda-d5a811fc09ed",
   "metadata": {},
   "source": [
    "@ChaseMoabery: However, as you noted, we also found that countries with higher GDP per capita have lower rates of economic growth, and are therefore inversely proportional. This puzzled us, until we reached a key breakthrough in our theory - there must be periods of large economic growth as countries surpass technological, social, and institutional barriers to economic growth that begin to slow down over time as more and more barriers are passed and as the country expands. So in large economies, when population has already been accounted for (GDP per capita), economic growth per annum tends to slow down, because the same percentage of economic growth could have an exponentially larger effect on a massive economy as opposed to a miniscule, developing one.\n"
   ]
  },
  {
   "cell_type": "markdown",
   "id": "3bbb1f07-a8c4-4efd-b479-cb3460a2f2c7",
   "metadata": {},
   "source": [
    "@TheEconomistsofOZak: Well done gentlemen. A great analysis with great graphs and a great attitude.\n"
   ]
  }
 ],
 "metadata": {
  "kernelspec": {
   "display_name": "Python 3 (ipykernel)",
   "language": "python",
   "name": "python3"
  },
  "language_info": {
   "codemirror_mode": {
    "name": "ipython",
    "version": 3
   },
   "file_extension": ".py",
   "mimetype": "text/x-python",
   "name": "python",
   "nbconvert_exporter": "python",
   "pygments_lexer": "ipython3",
   "version": "3.9.12"
  }
 },
 "nbformat": 4,
 "nbformat_minor": 5
}
