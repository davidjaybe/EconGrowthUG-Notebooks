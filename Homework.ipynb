{
 "cells": [
  {
   "cell_type": "code",
   "execution_count": 3,
   "id": "237ef9c8-23e4-4ada-8856-d445e9882b33",
   "metadata": {},
   "outputs": [],
   "source": [
    "# Plotting\n",
    "import matplotlib as mpl\n",
    "import matplotlib.pyplot as plt\n",
    "%matplotlib widget\n",
    "\n",
    "# OS\n",
    "import os\n",
    "\n",
    "# Math\n",
    "import numpy as np\n",
    "\n",
    "# Paths\n",
    "path = './data/'\n",
    "pathout = './data/'\n",
    "pathgraphs = './graphs/'\n",
    "\n",
    "for p in [path, pathout, pathgraphs]:\n",
    "    if os.path.exists(p)==False:\n",
    "        os.mkdir(p)"
   ]
  },
  {
   "cell_type": "code",
   "execution_count": null,
   "id": "01515ebd-babd-4459-bcbc-41df399d27a7",
   "metadata": {},
   "outputs": [],
   "source": [
    "Question 1 "
   ]
  },
  {
   "cell_type": "code",
   "execution_count": 8,
   "id": "58250e69-c67b-4351-adfb-f3d3b6169d02",
   "metadata": {
    "slideshow": {
     "slide_type": "-"
    }
   },
   "outputs": [],
   "source": [
    "def CobbDouglas(K=1, L=1, A=1, alpha=0.3):\n",
    "    '''\n",
    "    This function computes the level of output of a Cobb-Douglas production function.\n",
    "    Given values of K, L, A, and alpha it returns $A\\cdot K^\\alpha \\cdot L^{1-\\alpha}$.\n",
    "    Parameters:\n",
    "    -----------\n",
    "    K: float, integer or any other number, default=1\n",
    "    L: float, integer or any other number, default=1\n",
    "    A: float, integer or any other number, default=1\n",
    "    alpha: float between (0,1), default=0.3\n",
    "    \n",
    "    Returns:\n",
    "    --------\n",
    "    out = A * K**alpha * L**(1-alpha)\n",
    "    \n",
    "    Example:\n",
    "    >>> out = CobbDouglas(4, 9, 2, 1/2)\n",
    "    >>> out\n",
    "        12\n",
    "    '''\n",
    "    \n",
    "    x = A * (K**alpha) * L**(1-alpha)\n",
    "    return x"
   ]
  },
  {
   "cell_type": "code",
   "execution_count": null,
   "id": "b8eb783e-8fa3-4371-a2a9-5acb352c3591",
   "metadata": {},
   "outputs": [],
   "source": [
    "Question 2"
   ]
  },
  {
   "cell_type": "code",
   "execution_count": 9,
   "id": "69c5d335-bef0-4d9e-b71b-f0f172e77920",
   "metadata": {},
   "outputs": [
    {
     "name": "stdout",
     "output_type": "stream",
     "text": [
      "[0.         0.4083198  0.50270064 0.56772343 0.61889709 0.66174618\n",
      " 0.69894953 0.73203164 0.76195169 0.78935651 0.81470511 0.83833626\n",
      " 0.86050781 0.88142111 0.90123667 0.92008472 0.93807257 0.95528975\n",
      " 0.97181186 0.98770334 1.00301965 1.01780887 1.032113   1.04596895\n",
      " 1.05940938 1.07246332 1.08515668 1.09751274 1.10955249 1.12129489\n",
      " 1.13275717 1.14395503 1.15490281 1.16561365 1.17609964 1.18637191\n",
      " 1.19644074 1.20631564 1.21600545 1.22551837 1.23486204 1.2440436\n",
      " 1.2530697  1.2619466  1.27068015 1.27927584 1.28773883 1.29607401\n",
      " 1.30428594 1.31237898 1.32035722 1.32822453 1.33598458 1.34364086\n",
      " 1.35119668 1.35865518 1.36601935 1.37329203 1.38047594 1.38757366\n",
      " 1.39458766 1.4015203  1.40837384 1.41515043 1.42185214 1.42848094\n",
      " 1.43503873 1.44152734 1.4479485  1.4543039  1.46059515 1.4668238\n",
      " 1.47299133 1.4790992  1.48514877 1.49114138 1.49707832 1.50296082\n",
      " 1.50879009 1.51456728 1.5202935  1.52596983 1.53159732 1.53717697\n",
      " 1.54270977 1.54819664 1.55363851 1.55903627 1.56439077 1.56970284\n",
      " 1.5749733  1.58020292 1.58539247 1.59054268 1.59565427 1.60072794\n",
      " 1.60576435 1.61076418 1.61572805 1.6206566 ]\n"
     ]
    }
   ],
   "source": [
    "K = np.linspace(0, 5, 100)\n",
    "x = CobbDouglas(K)\n",
    "print(x)"
   ]
  },
  {
   "cell_type": "code",
   "execution_count": null,
   "id": "89d7fc62-16f7-4c27-a8d7-4052d0da24ad",
   "metadata": {},
   "outputs": [],
   "source": [
    "Exercise 3"
   ]
  },
  {
   "cell_type": "code",
   "execution_count": null,
   "id": "ff828d08-d485-4208-9e5e-a7070e184db8",
   "metadata": {},
   "outputs": [],
   "source": []
  },
  {
   "cell_type": "code",
   "execution_count": null,
   "id": "7af89c35-26d0-42e1-8f46-1ce034e6b5b2",
   "metadata": {},
   "outputs": [],
   "source": [
    "Exercise 4"
   ]
  },
  {
   "cell_type": "code",
   "execution_count": null,
   "id": "c0eb1f52-0acf-402f-b7c1-34505c7cdacd",
   "metadata": {},
   "outputs": [],
   "source": []
  },
  {
   "cell_type": "code",
   "execution_count": null,
   "id": "e31cc3a2-0802-48a9-8c69-e618b546137c",
   "metadata": {},
   "outputs": [],
   "source": [
    "Exercise 5"
   ]
  },
  {
   "cell_type": "code",
   "execution_count": null,
   "id": "f50aee5a-b866-4dd9-a6ac-0c5fe6203c87",
   "metadata": {},
   "outputs": [],
   "source": []
  }
 ],
 "metadata": {
  "kernelspec": {
   "display_name": "Python 3 (ipykernel)",
   "language": "python",
   "name": "python3"
  },
  "language_info": {
   "codemirror_mode": {
    "name": "ipython",
    "version": 3
   },
   "file_extension": ".py",
   "mimetype": "text/x-python",
   "name": "python",
   "nbconvert_exporter": "python",
   "pygments_lexer": "ipython3",
   "version": "3.9.13"
  }
 },
 "nbformat": 4,
 "nbformat_minor": 5
}
